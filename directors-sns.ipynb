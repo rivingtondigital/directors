{
 "cells": [
  {
   "cell_type": "code",
   "execution_count": 1,
   "metadata": {
    "collapsed": true
   },
   "outputs": [],
   "source": [
    "import boto3\n",
    "import json\n",
    "from collections import defaultdict"
   ]
  },
  {
   "cell_type": "code",
   "execution_count": null,
   "metadata": {
    "collapsed": true
   },
   "outputs": [],
   "source": [
    "sns = boto3.client('sns')"
   ]
  },
  {
   "cell_type": "code",
   "execution_count": null,
   "metadata": {},
   "outputs": [],
   "source": [
    "sns.list_topics()"
   ]
  },
  {
   "cell_type": "code",
   "execution_count": null,
   "metadata": {},
   "outputs": [],
   "source": [
    "req = {\n",
    "    'Company': 'Liberty Media Corp',\n",
    "    'Documents': ['10K', 'DEF14A'],\n",
    "    'Destination': 'directors/test'\n",
    "}\n",
    "resp = sns.publish(TopicArn='arn:aws:sns:us-east-1:256782092976:GetDirectors',\n",
    "              Message=json.dumps(req))"
   ]
  },
  {
   "cell_type": "code",
   "execution_count": null,
   "metadata": {},
   "outputs": [],
   "source": [
    "resp"
   ]
  },
  {
   "cell_type": "code",
   "execution_count": null,
   "metadata": {
    "collapsed": true
   },
   "outputs": [],
   "source": [
    "client.subscribe(TopicArn='arn:aws:sns:us-east-1:256782092976:GetDirectors')"
   ]
  },
  {
   "cell_type": "code",
   "execution_count": null,
   "metadata": {
    "collapsed": true
   },
   "outputs": [],
   "source": [
    "resp = sns.publish(TopicArn='arn:aws:sns:us-east-1:256782092976:BatchDocs',\n",
    "              Message=\"10\")"
   ]
  },
  {
   "cell_type": "code",
   "execution_count": null,
   "metadata": {
    "collapsed": true
   },
   "outputs": [],
   "source": []
  },
  {
   "cell_type": "code",
   "execution_count": null,
   "metadata": {
    "collapsed": true
   },
   "outputs": [],
   "source": [
    "s3 = boto3.client('s3')\n",
    "\n",
    "def get_records():\n",
    "    paginator = s3.get_paginator('list_objects')\n",
    "    page_iterator = paginator.paginate(Bucket='directors.rdig.co', Prefix='companies')\n",
    "    names = []\n",
    "    for page in page_iterator:\n",
    "        keys = page['Contents']\n",
    "        names.extend([key['Key'] for key in keys])\n",
    "    return names\n",
    "\n",
    "def get_index():\n",
    "    records = get_records()\n",
    "    index = defaultdict(list)\n",
    "    for name in records:\n",
    "        parts = name.split('/')\n",
    "        path = \"/\".join(parts[:-1])\n",
    "        file = parts[-1]\n",
    "        index[path].append(file)\n",
    "    return index\n",
    "\n",
    "def checks(target):\n",
    "    ret = []\n",
    "    index = get_index()\n",
    "    for i in index:\n",
    "        gots = set([x.split('.')[0] for x in index[i]])\n",
    "        needs = target - gots\n",
    "        ret.append((i, list(needs)))\n",
    "    return ret\n",
    "\n",
    "def needs_core_docs():\n",
    "    target = set(['Form10K', 'FormDEF14A'])\n",
    "    needs = checks(target)\n",
    "    return [n for n in needs if n[1]]\n",
    "\n",
    "    "
   ]
  },
  {
   "cell_type": "code",
   "execution_count": null,
   "metadata": {
    "collapsed": true
   },
   "outputs": [],
   "source": [
    "def marshal(count):\n",
    "    needs = needs_core_docs()\n",
    "    for need, files in needs[:count]:\n",
    "        if files:\n",
    "            name = need.split('/')[-1]\n",
    "            name = name.replace('_', ' ')\n",
    "            req = {\n",
    "                'Company': name,\n",
    "                'Documents': files,\n",
    "                'Destination': need\n",
    "            }\n",
    "            resp = sns.publish(TopicArn='arn:aws:sns:us-east-1:256782092976:GetDirectors',\n",
    "                          Message=json.dumps(req))\n"
   ]
  },
  {
   "cell_type": "code",
   "execution_count": null,
   "metadata": {},
   "outputs": [],
   "source": [
    "target = set(['Form10K', 'FormDEF14A'])\n",
    "needs = needs_core_docs()\n",
    "needs"
   ]
  },
  {
   "cell_type": "code",
   "execution_count": null,
   "metadata": {
    "collapsed": true
   },
   "outputs": [],
   "source": [
    "marshal(10)"
   ]
  },
  {
   "cell_type": "code",
   "execution_count": null,
   "metadata": {
    "collapsed": true
   },
   "outputs": [],
   "source": [
    "resp = client.publish(TopicArn='arn:aws:sns:us-east-1:256782092976:GetDirectors',\n",
    "                      Message=json.dumps(req))"
   ]
  },
  {
   "cell_type": "code",
   "execution_count": null,
   "metadata": {
    "collapsed": true
   },
   "outputs": [],
   "source": [
    "from directors import search_edgar"
   ]
  },
  {
   "cell_type": "code",
   "execution_count": null,
   "metadata": {
    "collapsed": true
   },
   "outputs": [],
   "source": [
    "search_edgar.search('Liberty Media Corp', form_type=\"FormDEF14A\")"
   ]
  },
  {
   "cell_type": "code",
   "execution_count": null,
   "metadata": {
    "collapsed": true
   },
   "outputs": [],
   "source": [
    "from directors import search_edgar"
   ]
  },
  {
   "cell_type": "code",
   "execution_count": null,
   "metadata": {},
   "outputs": [],
   "source": [
    "search_edgar.process('AMERIPRISE FINANCIAL SERVICES INC', ['FormDEF14A'], 'directors/test')"
   ]
  },
  {
   "cell_type": "code",
   "execution_count": 1,
   "metadata": {},
   "outputs": [
    {
     "data": {
      "text/plain": [
       "{'Buckets': [{'CreationDate': datetime.datetime(2015, 10, 7, 18, 8, 34, tzinfo=tzutc()),\n",
       "   'Name': 'awsre-ml'},\n",
       "  {'CreationDate': datetime.datetime(2017, 9, 20, 16, 28, 5, tzinfo=tzutc()),\n",
       "   'Name': 'directors-dev-serverlessdeploymentbucket-1kgx0hey6ll80'},\n",
       "  {'CreationDate': datetime.datetime(2017, 9, 20, 18, 16, 50, tzinfo=tzutc()),\n",
       "   'Name': 'directors.rdig.co'},\n",
       "  {'CreationDate': datetime.datetime(2017, 5, 3, 1, 32, 53, tzinfo=tzutc()),\n",
       "   'Name': 'flip.rdig.co'},\n",
       "  {'CreationDate': datetime.datetime(2017, 9, 13, 2, 57, 16, tzinfo=tzutc()),\n",
       "   'Name': 'frontmatter.rdig.co'},\n",
       "  {'CreationDate': datetime.datetime(2013, 12, 2, 23, 56, 56, tzinfo=tzutc()),\n",
       "   'Name': 'fylterus-tweets'},\n",
       "  {'CreationDate': datetime.datetime(2013, 12, 3, 2, 39, 46, tzinfo=tzutc()),\n",
       "   'Name': 'fylterus.logs'},\n",
       "  {'CreationDate': datetime.datetime(2013, 12, 2, 23, 52, 35, tzinfo=tzutc()),\n",
       "   'Name': 'fylterus.tweets'},\n",
       "  {'CreationDate': datetime.datetime(2015, 11, 7, 22, 36, tzinfo=tzutc()),\n",
       "   'Name': 'politicker-export'},\n",
       "  {'CreationDate': datetime.datetime(2015, 10, 11, 20, 0, 32, tzinfo=tzutc()),\n",
       "   'Name': 'politicker.io'},\n",
       "  {'CreationDate': datetime.datetime(2015, 10, 11, 19, 59, 49, tzinfo=tzutc()),\n",
       "   'Name': 'rdig'},\n",
       "  {'CreationDate': datetime.datetime(2015, 10, 11, 19, 59, 41, tzinfo=tzutc()),\n",
       "   'Name': 'rivingtondigital'}],\n",
       " 'Owner': {'DisplayName': 'cohen.jn',\n",
       "  'ID': '2dc4340909001fd773b6edcf102add8ed870a07dd6e86ccd760b0032848fd14e'},\n",
       " 'ResponseMetadata': {'HTTPHeaders': {'content-type': 'application/xml',\n",
       "   'date': 'Thu, 28 Sep 2017 18:28:37 GMT',\n",
       "   'server': 'AmazonS3',\n",
       "   'transfer-encoding': 'chunked',\n",
       "   'x-amz-id-2': 'KGtXwQWkvwSQ0xp20kjl6kuZYE7O5+Zovr9y9YztCyPHATjcgayagXE2mHOMY+xcoXJEEZzDvF4=',\n",
       "   'x-amz-request-id': '235EC5CA2673594D'},\n",
       "  'HTTPStatusCode': 200,\n",
       "  'HostId': 'KGtXwQWkvwSQ0xp20kjl6kuZYE7O5+Zovr9y9YztCyPHATjcgayagXE2mHOMY+xcoXJEEZzDvF4=',\n",
       "  'RequestId': '235EC5CA2673594D',\n",
       "  'RetryAttempts': 0}}"
      ]
     },
     "execution_count": 1,
     "metadata": {},
     "output_type": "execute_result"
    }
   ],
   "source": [
    "import boto3\n",
    "s3 = boto3.client('s3')\n",
    "s3.list_buckets()"
   ]
  },
  {
   "cell_type": "code",
   "execution_count": null,
   "metadata": {},
   "outputs": [],
   "source": []
  },
  {
   "cell_type": "code",
   "execution_count": null,
   "metadata": {
    "collapsed": true
   },
   "outputs": [],
   "source": []
  }
 ],
 "metadata": {
  "kernelspec": {
   "display_name": "Python 3",
   "language": "python",
   "name": "python3"
  },
  "language_info": {
   "codemirror_mode": {
    "name": "ipython",
    "version": 3
   },
   "file_extension": ".py",
   "mimetype": "text/x-python",
   "name": "python",
   "nbconvert_exporter": "python",
   "pygments_lexer": "ipython3",
   "version": "3.6.2"
  }
 },
 "nbformat": 4,
 "nbformat_minor": 2
}
