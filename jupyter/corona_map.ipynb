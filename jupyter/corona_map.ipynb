{
 "cells": [
  {
   "cell_type": "code",
   "execution_count": null,
   "metadata": {},
   "outputs": [],
   "source": [
    "import pandas as pd\n",
    "\n",
    "lines = []\n",
    "with open('/home/jovyan/work/data/covid19.csv') as f:\n",
    "    csv = [x.strip().split(',') for x in f.readlines()]\n",
    "    \n",
    "\n",
    "covid19 = pd.DataFrame(csv)\n",
    "covid19.columns = covid19.loc[0]\n",
    "covid19 = covid19[1:]\n",
    "\n",
    "k_mask = covid19['Date']==''\n",
    "korea = covid19[k_mask]\n",
    "covid = covid19[~k_mask]"
   ]
  },
  {
   "cell_type": "code",
   "execution_count": null,
   "metadata": {},
   "outputs": [],
   "source": [
    "korea.loc[:, 'Country/Region'] = \"South Korea\"\n",
    "korea.loc[:, 'Province/State'] = ''"
   ]
  },
  {
   "cell_type": "code",
   "execution_count": null,
   "metadata": {},
   "outputs": [],
   "source": [
    "cols = korea.columns\n",
    "data = korea\n",
    "korea = korea.drop('Date', 1)\n",
    "korea['Date'] = None\n",
    "korea.columns = cols\n",
    "korea"
   ]
  },
  {
   "cell_type": "code",
   "execution_count": null,
   "metadata": {},
   "outputs": [],
   "source": [
    "covid19."
   ]
  },
  {
   "cell_type": "code",
   "execution_count": null,
   "metadata": {},
   "outputs": [],
   "source": [
    "import numpy as np\n",
    "covid19.loc[:, 'Lat_f'] = covid19['Lat'].apply(lambda x: float(x))\n",
    "covid19.loc[:, 'Long_f'] = covid19['Long'].apply(lambda x: float(x))\n",
    "covid19.loc[:, 'Cases_i'] = covid19['Cases'].apply(lambda x: np.log(int(x)+1))\n",
    "covid19"
   ]
  },
  {
   "cell_type": "code",
   "execution_count": null,
   "metadata": {},
   "outputs": [],
   "source": [
    "lastday = covid19[covid19['Date'] == '2020-03-12']"
   ]
  },
  {
   "cell_type": "code",
   "execution_count": null,
   "metadata": {},
   "outputs": [],
   "source": [
    "active = lastday[lastday['Case_Type'] == 'Active']\n",
    "active[active['Province/State']=='California']"
   ]
  },
  {
   "cell_type": "code",
   "execution_count": null,
   "metadata": {},
   "outputs": [],
   "source": [
    "import plotly.express as px\n",
    "MAPBOX_TOKEN='pk.eyJ1Ijoiam9uY29oZW4iLCJhIjoiY2s1N2k0azFuMDNxOTNscXFldW1wYWlrYiJ9.h5W1B7hZK5DBXrkVnB_0-g'\n",
    "\n",
    "fig = px.scatter_mapbox(active, \n",
    "                        lat=\"Lat_f\", \n",
    "                        lon=\"Long_f\", \n",
    "                        hover_name=\"Province/State\", \n",
    "                        hover_data=[\"Case_Type\", 'Cases'],\n",
    "                        color_discrete_sequence=['firebrick'], \n",
    "                        zoom=4,\n",
    "                        size=active['Cases_i'],\n",
    "                        height=600)\n",
    "\n",
    "fig.update_layout(mapbox_style=\"dark\", mapbox_accesstoken=MAPBOX_TOKEN)\n",
    "fig.update_layout(margin={\"r\":0,\"t\":0,\"l\":0,\"b\":0})\n",
    "\n",
    "fig.show()"
   ]
  },
  {
   "cell_type": "code",
   "execution_count": null,
   "metadata": {},
   "outputs": [],
   "source": [
    "california = covid19[covid19['Province/State']=='California']\n",
    "cal_confirmed = california[california['Case_Type']=='Confirmed']"
   ]
  },
  {
   "cell_type": "code",
   "execution_count": null,
   "metadata": {},
   "outputs": [],
   "source": [
    "sort_cal = cal_confirmed.sort_values('Date')"
   ]
  },
  {
   "cell_type": "code",
   "execution_count": null,
   "metadata": {},
   "outputs": [],
   "source": [
    "cases = sort_cal.loc[:, ('Date', 'Cases')]"
   ]
  },
  {
   "cell_type": "code",
   "execution_count": null,
   "metadata": {},
   "outputs": [],
   "source": []
  },
  {
   "cell_type": "code",
   "execution_count": null,
   "metadata": {},
   "outputs": [],
   "source": []
  }
 ],
 "metadata": {
  "kernelspec": {
   "display_name": "py37",
   "language": "python",
   "name": "py37"
  },
  "language_info": {
   "codemirror_mode": {
    "name": "ipython",
    "version": 3
   },
   "file_extension": ".py",
   "mimetype": "text/x-python",
   "name": "python",
   "nbconvert_exporter": "python",
   "pygments_lexer": "ipython3",
   "version": "3.7.3"
  }
 },
 "nbformat": 4,
 "nbformat_minor": 2
}
