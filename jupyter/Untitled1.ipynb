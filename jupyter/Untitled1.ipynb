{
 "cells": [
  {
   "cell_type": "code",
   "execution_count": 2,
   "metadata": {},
   "outputs": [],
   "source": [
    "import sqlalchemy as sql"
   ]
  },
  {
   "cell_type": "code",
   "execution_count": 9,
   "metadata": {},
   "outputs": [
    {
     "name": "stdout",
     "output_type": "stream",
     "text": [
      "mysql+pymysql://root:@db/mysql\n"
     ]
    }
   ],
   "source": [
    "con_string = 'mysql+pymysql://{username}:{password}@{host}/{dbname}'.format(\n",
    "    username='root', \n",
    "    password='', \n",
    "    host='db',\n",
    "    dbname='mysql')\n",
    "\n",
    "print(con_string)\n",
    "\n",
    "engine = sql.create_engine(con_string)"
   ]
  },
  {
   "cell_type": "code",
   "execution_count": 10,
   "metadata": {},
   "outputs": [
    {
     "data": {
      "text/plain": [
       "['columns_priv',\n",
       " 'component',\n",
       " 'db',\n",
       " 'default_roles',\n",
       " 'engine_cost',\n",
       " 'func',\n",
       " 'general_log',\n",
       " 'global_grants',\n",
       " 'gtid_executed',\n",
       " 'help_category',\n",
       " 'help_keyword',\n",
       " 'help_relation',\n",
       " 'help_topic',\n",
       " 'innodb_index_stats',\n",
       " 'innodb_table_stats',\n",
       " 'password_history',\n",
       " 'plugin',\n",
       " 'procs_priv',\n",
       " 'proxies_priv',\n",
       " 'role_edges',\n",
       " 'server_cost',\n",
       " 'servers',\n",
       " 'slave_master_info',\n",
       " 'slave_relay_log_info',\n",
       " 'slave_worker_info',\n",
       " 'slow_log',\n",
       " 'tables_priv',\n",
       " 'time_zone',\n",
       " 'time_zone_leap_second',\n",
       " 'time_zone_name',\n",
       " 'time_zone_transition',\n",
       " 'time_zone_transition_type',\n",
       " 'user']"
      ]
     },
     "execution_count": 10,
     "metadata": {},
     "output_type": "execute_result"
    }
   ],
   "source": []
  },
  {
   "cell_type": "code",
   "execution_count": null,
   "metadata": {},
   "outputs": [],
   "source": []
  }
 ],
 "metadata": {
  "kernelspec": {
   "display_name": "py37",
   "language": "python",
   "name": "py37"
  },
  "language_info": {
   "codemirror_mode": {
    "name": "ipython",
    "version": 3
   },
   "file_extension": ".py",
   "mimetype": "text/x-python",
   "name": "python",
   "nbconvert_exporter": "python",
   "pygments_lexer": "ipython3",
   "version": "3.7.3"
  }
 },
 "nbformat": 4,
 "nbformat_minor": 2
}
